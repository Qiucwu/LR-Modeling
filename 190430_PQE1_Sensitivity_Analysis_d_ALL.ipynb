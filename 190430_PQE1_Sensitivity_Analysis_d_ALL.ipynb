{
 "cells": [
  {
   "cell_type": "markdown",
   "metadata": {},
   "source": [
    "# How to think about treating heterogeneous initial populations"
   ]
  },
  {
   "cell_type": "code",
   "execution_count": 1,
   "metadata": {},
   "outputs": [],
   "source": [
    "import numpy as np\n",
    "import matplotlib.pyplot as plt\n",
    "from scipy.integrate import odeint\n",
    "from scipy.integrate import solve_ivp\n",
    "import sys\n",
    "import pickle\n",
    "from pyDOE import *\n",
    "from scipy.stats.distributions import norm"
   ]
  },
  {
   "cell_type": "code",
   "execution_count": 2,
   "metadata": {},
   "outputs": [],
   "source": [
    "u_N = .02\n",
    "u_SCM = .005\n",
    "u_TM = 0.32\n",
    "u_CM = 0.35\n",
    "u_EM = 0.30\n",
    "u_EMRA = 0.005\n",
    "std = 0.1\n",
    "u_T = [u_N, u_SCM, u_TM, u_CM, u_EM,u_EMRA]"
   ]
  },
  {
   "cell_type": "code",
   "execution_count": 3,
   "metadata": {},
   "outputs": [],
   "source": [
    "# Set plotting parameters\n",
    "font = {'family' : 'Arial',\n",
    "        'weight' : 'normal',\n",
    "        'size'   : 15}\n",
    "\n",
    "plt.rc('font', **font)"
   ]
  },
  {
   "cell_type": "markdown",
   "metadata": {},
   "source": [
    "## Define Model"
   ]
  },
  {
   "cell_type": "code",
   "execution_count": 4,
   "metadata": {},
   "outputs": [],
   "source": [
    "#Define the model\n",
    "def model(z,t):\n",
    "    L_n = z[0]\n",
    "    L_scm = z[2]\n",
    "    L_tm = z[4]\n",
    "    L_cm = z[6] \n",
    "    L_em = z[8]\n",
    "    L_emra = z[10]\n",
    "    \n",
    "    A_n = z[1]\n",
    "    A_scm = z[3]\n",
    "    A_tm = z[5]\n",
    "    A_cm = z[7]\n",
    "    A_em = z[9]\n",
    "    A_emra = z[11]\n",
    "    \n",
    "    \n",
    "    #for drug dosings\n",
    "    dL_ndt = (p_n - d_n)*L_n - a*L_n + w*A_n\n",
    "    dA_ndt = a*L_n - d_ALL*A_n - w*A_n\n",
    "    \n",
    "    dL_scmdt = (p_scm - d_scm)*L_scm - a*L_scm + w*A_scm\n",
    "    dA_scmdt = a*L_scm - d_ALL*A_scm - w*A_scm\n",
    "    \n",
    "    dL_tmdt = (p_tm - d_tm)*L_tm - a*L_tm + w*A_tm\n",
    "    dA_tmdt = a*L_tm - d_ALL*A_tm - w*A_tm\n",
    "    \n",
    "    dL_cmdt = (p_cm - d_cm)*L_cm - a*L_cm + w*A_cm\n",
    "    dA_cmdt = a*L_cm - d_ALL*A_cm - w*A_cm\n",
    "    \n",
    "    dL_emdt = (p_em - d_em)*L_em - a*L_em + w*A_em\n",
    "    dA_emdt = a*L_em - d_ALL*A_em - w*A_em\n",
    "    \n",
    "    dL_emradt = (p_emra - d_emra)*L_emra - a*L_emra + w*A_emra\n",
    "    dA_emradt = a*L_emra - d_ALL*A_emra - w*A_emra\n",
    "    \n",
    "    \n",
    "    dzdt = [dL_ndt,dA_ndt,\n",
    "            dL_scmdt,dA_scmdt,\n",
    "            dL_tmdt,dA_tmdt,\n",
    "            dL_cmdt,dA_cmdt,\n",
    "            dL_emdt,dA_emdt,\n",
    "            dL_emradt,dA_emradt\n",
    "            ]\n",
    "    return dzdt"
   ]
  },
  {
   "cell_type": "code",
   "execution_count": 6,
   "metadata": {},
   "outputs": [
    {
     "name": "stdout",
     "output_type": "stream",
     "text": [
      " 999"
     ]
    }
   ],
   "source": [
    "d_ALL_tmp = (lhs(1, samples=1000)*5).flatten()\n",
    "parameter_arr = d_ALL_tmp\n",
    "parameter_letter = 'd_ALL'\n",
    "\n",
    "\n",
    "#number of time points\n",
    "tn = 2000\n",
    "\n",
    "#store solutions\n",
    "L_n = np.zeros([parameter_arr.shape[0],tn])\n",
    "L_scm = np.zeros([parameter_arr.shape[0],tn])\n",
    "L_tm = np.zeros([parameter_arr.shape[0],tn])\n",
    "L_cm = np.zeros([parameter_arr.shape[0],tn])\n",
    "L_em = np.zeros([parameter_arr.shape[0],tn])\n",
    "L_emra = np.zeros([parameter_arr.shape[0],tn])\n",
    "\n",
    "A_n = np.zeros([parameter_arr.shape[0],tn])\n",
    "A_scm = np.zeros([parameter_arr.shape[0],tn])\n",
    "A_tm = np.zeros([parameter_arr.shape[0],tn])\n",
    "A_cm = np.zeros([parameter_arr.shape[0],tn])\n",
    "A_em = np.zeros([parameter_arr.shape[0],tn])\n",
    "A_emra = np.zeros([parameter_arr.shape[0],tn])\n",
    "Total = np.zeros([parameter_arr.shape[0],tn])\n",
    "\n",
    "\n",
    "\n",
    "\n",
    "\n",
    "for i,parameter in enumerate(parameter_arr):\n",
    "#initial conditions, there are three\n",
    "    w = 1/20 # In Ke's 2015 paper, it looks like a reasonable assumption is 20-50 days because thats where copies of vRNA start dropping\n",
    "    d = 1\n",
    "    LRA = 1\n",
    "    d_ALL = 0.003\n",
    "\n",
    "    if parameter_letter == 'w':\n",
    "        w = parameter\n",
    "    elif parameter_letter == 'd_ALL':\n",
    "        d_ALL = parameter\n",
    "    elif parameter_letter == 'd':\n",
    "        d = parameter\n",
    "    elif parameter_letter == 'LRA':\n",
    "        LRA = parameter\n",
    "    else: \n",
    "        break\n",
    "    #set parameters\n",
    "\n",
    "    p_cm = 0.00075 * d\n",
    "    p_tm = 0.0006 * d\n",
    "    p_em = 0.0003 * d\n",
    "    p_n = 0.000099 * d\n",
    "    p_scm = 0.00001 * d\n",
    "    p_emra = 0.00005 * d\n",
    "\n",
    "\n",
    "    corr_fact = -np.log(1/2)\n",
    "    d_n = corr_fact * (1/1500)\n",
    "    d_scm = corr_fact * (1/150)\n",
    "    d_tm = corr_fact * (1/100)\n",
    "    d_cm = corr_fact * (1/120)\n",
    "    d_em = corr_fact * (1/90)\n",
    "    d_emra = corr_fact * (1/250)\n",
    "    n = 0.00017\n",
    "    a = n * LRA\n",
    "\n",
    "    \n",
    "    z0 = np.zeros(12)\n",
    "    ctr=0\n",
    "    for g in range(6):\n",
    "        z0[ctr] = u_T[g]*10**6\n",
    "        ctr+=2\n",
    "\n",
    "    #time points\n",
    "    b = 2000\n",
    "    tn = 30001\n",
    "    t = np.linspace(0,tn-1, b)\n",
    "\n",
    "\n",
    "    #record intial\n",
    "\n",
    "    L_n[i][0] = z0[0]\n",
    "    L_scm[i][0] = z0[2]\n",
    "    L_tm[i][0] = z0[4]\n",
    "    L_cm[i][0] = z0[6] \n",
    "    L_em[i][0] = z0[8]\n",
    "    L_emra[i][0] =z0[10]\n",
    "\n",
    "    A_n[i][0] = z0[1]\n",
    "    A_scm[i][0] = z0[3]\n",
    "    A_tm[i][0] = z0[5]\n",
    "    A_cm[i][0] = z0[7]\n",
    "    A_em[i][0] = z0[9]\n",
    "    A_emra[i][0] = z0[11]\n",
    "\n",
    "    Total[i][0] = np.sum(z0)\n",
    "\n",
    "    #Solve the ODE\n",
    "    for k in range(1,b):\n",
    "        tspan = [t[k-1],t[k]]\n",
    "        # solve for next step\n",
    "        z = odeint(model,z0,tspan)\n",
    "        # store solution for plotting\n",
    "\n",
    "        L_n[i][k] = z[1][0]\n",
    "        L_scm[i][k] = z[1][2]\n",
    "        L_tm[i][k] = z[1][4]\n",
    "        L_cm[i][k] = z[1][6] \n",
    "        L_em[i][k] = z[1][8]\n",
    "        L_emra[i][k] = z[1][10]\n",
    "\n",
    "        A_n[i][k] = z[1][1]\n",
    "        A_scm[i][k] = z[1][3]\n",
    "        A_tm[i][k] = z[1][5]\n",
    "        A_cm[i][k] = z[1][7]\n",
    "        A_em[i][k] = z[1][9]\n",
    "        A_emra[i][k] = z[1][11]\n",
    "\n",
    "\n",
    "        Total[i][k] =np.sum(z[1])\n",
    "        z0 = z[1] \n",
    "    sys.stdout.write('\\r {}'.format(i) )\n",
    "\n",
    "t = t/365\n",
    "pop_dict = {}\n",
    "pop_dict['latent'] = [L_n, L_scm, L_tm, L_cm, L_em, L_emra]\n",
    "pop_dict['active'] = [A_n, A_scm, A_tm, A_cm, A_em, A_emra]\n",
    "pop_dict['times'] = t\n",
    "pop_dict['total'] = Total\n",
    "pop_dict['cell_type'] = ['T_n', 'T_scm', 'T_tm', 'T_cm','T_em', 'T_emra']\n",
    "\n"
   ]
  },
  {
   "cell_type": "code",
   "execution_count": 7,
   "metadata": {},
   "outputs": [],
   "source": [
    "pop_dict['d_ALL'] = parameter_arr"
   ]
  },
  {
   "cell_type": "code",
   "execution_count": 8,
   "metadata": {},
   "outputs": [],
   "source": [
    "pickle.dump(pop_dict,open('190430_d_ALL_sensitivity.p', 'wb'))"
   ]
  },
  {
   "cell_type": "code",
   "execution_count": 9,
   "metadata": {},
   "outputs": [],
   "source": [
    "y = pop_dict['total'][np.argsort(parameter_arr)]\n",
    "x  = sorted(parameter_arr)\n"
   ]
  },
  {
   "cell_type": "code",
   "execution_count": 10,
   "metadata": {},
   "outputs": [],
   "source": [
    "hill_cure = []\n",
    "for i in range(1000):\n",
    "    hill_cure.append(t[np.where(y[i] <10**2)[0][0]])\n",
    "y = hill_cure"
   ]
  },
  {
   "cell_type": "code",
   "execution_count": 17,
   "metadata": {},
   "outputs": [
    {
     "data": {
      "text/plain": [
       "[None,\n",
       " None,\n",
       " None,\n",
       " None,\n",
       " None,\n",
       " None,\n",
       " None,\n",
       " None,\n",
       " None,\n",
       " None,\n",
       " None,\n",
       " None,\n",
       " None,\n",
       " None]"
      ]
     },
     "execution_count": 17,
     "metadata": {},
     "output_type": "execute_result"
    },
    {
     "data": {
      "image/png": "[encoded data removed]",
      "text/plain": [
       "<Figure size 504x360 with 2 Axes>"
      ]
     },
     "metadata": {
      "needs_background": "light"
     },
     "output_type": "display_data"
    }
   ],
   "source": [
    "from matplotlib.gridspec import GridSpec\n",
    "fig = plt.figure(figsize = (7,5))\n",
    "\n",
    "gs = GridSpec(4,4)\n",
    "\n",
    "ax_joint = fig.add_subplot(gs[1:4,0:3])\n",
    "plt.grid(True)\n",
    "plt.xticks(np.arange(0, 3, .5))\n",
    "plt.yticks(np.arange(1,41,2))\n",
    "plt.xlim([-.1,3])\n",
    "ax_joint.set_xlabel(r'$d_{ALL}$ range')\n",
    "ax_joint.set_ylabel('Years to Hill Cure')\n",
    "plt.title(r'Sensitivity Analysis for $d_{ALL}$')\n",
    "ax_marg_y = fig.add_subplot(gs[1:4,3])\n",
    "\n",
    "ax_joint.scatter(x,y, s = 10)\n",
    "\n",
    "\n",
    "ax_marg_y.hist(y,orientation=\"horizontal\", log = True,bins = 20)\n",
    "\n",
    "plt.setp(ax_marg_y.get_yticklabels(), visible=False)\n",
    "\n",
    "\n",
    "\n",
    "\n"
   ]
  },
  {
   "cell_type": "code",
   "execution_count": null,
   "metadata": {},
   "outputs": [],
   "source": []
  },
  {
   "cell_type": "code",
   "execution_count": null,
   "metadata": {},
   "outputs": [],
   "source": []
  }
 ],
 "metadata": {
  "kernelspec": {
   "display_name": "Python Scanpy",
   "language": "python",
   "name": "scanpy_env"
  },
  "language_info": {
   "codemirror_mode": {
    "name": "ipython",
    "version": 3
   },
   "file_extension": ".py",
   "mimetype": "text/x-python",
   "name": "python",
   "nbconvert_exporter": "python",
   "pygments_lexer": "ipython3",
   "version": "3.7.1"
  }
 },
 "nbformat": 4,
 "nbformat_minor": 2
}
