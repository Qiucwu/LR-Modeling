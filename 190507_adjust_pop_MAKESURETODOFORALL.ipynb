{
 "cells": [
  {
   "cell_type": "markdown",
   "metadata": {},
   "source": [
    "Here I am able to sample through the parameter space and look at which parameters matter in this latency issue. The spearman regression confirms the important variables to consider. Will probably use for figure"
   ]
  },
  {
   "cell_type": "code",
   "execution_count": 1,
   "metadata": {},
   "outputs": [],
   "source": [
    "import numpy as np\n",
    "import matplotlib.pyplot as plt\n",
    "from scipy.integrate import odeint\n",
    "from scipy.integrate import solve_ivp\n",
    "import sys\n",
    "import pickle\n",
    "from pyDOE import *\n",
    "from scipy.stats.distributions import norm"
   ]
  },
  {
   "cell_type": "code",
   "execution_count": 2,
   "metadata": {},
   "outputs": [],
   "source": [
    "u_N = .02\n",
    "u_SCM = .005\n",
    "u_TM = 0.32\n",
    "u_CM = 0.35\n",
    "u_EM = 0.30\n",
    "u_EMRA = 0.005\n",
    "std = 0.15#0.1\n",
    "u_T = [u_N, u_SCM, u_TM, u_CM, u_EM,u_EMRA]\n",
    "\n",
    "u_d_ALL = 0.003\n",
    "u_w = 1/20\n",
    "u_LRA = 1\n",
    "u_d = 1\n",
    "std_param = 1\n",
    "u_param = [ u_d_ALL, u_w, u_LRA, u_d]"
   ]
  },
  {
   "cell_type": "code",
   "execution_count": 3,
   "metadata": {},
   "outputs": [],
   "source": [
    "sims = 10000\n",
    "design = lhs(10, samples=sims)\n",
    "means = u_T + u_param\n",
    "stdvs = [std]*6 + [std_param]*4\n",
    "for i in range(10):\n",
    "    design[:, i] = norm(loc=means[i], scale=stdvs[i]).ppf(design[:, i])\n",
    "design = abs(design)"
   ]
  },
  {
   "cell_type": "code",
   "execution_count": 4,
   "metadata": {},
   "outputs": [],
   "source": [
    "parameter_arr = np.zeros([sims, 16])\n",
    "adj = (design[:,:6].T/np.sum(design[:,:6], axis = 1)).T\n",
    "for i in range(6):\n",
    "    parameter_arr[:,i*2] = adj[:,i]\n",
    "for i in range(6,10):\n",
    "    parameter_arr[:,i+6] = design[:,i]"
   ]
  },
  {
   "cell_type": "code",
   "execution_count": 5,
   "metadata": {},
   "outputs": [],
   "source": [
    "# Set plotting parameters\n",
    "font = {'family' : 'Arial',\n",
    "        'weight' : 'normal',\n",
    "        'size'   : 15}\n",
    "\n",
    "plt.rc('font', **font)"
   ]
  },
  {
   "cell_type": "markdown",
   "metadata": {},
   "source": [
    "## Define Model"
   ]
  },
  {
   "cell_type": "code",
   "execution_count": 6,
   "metadata": {},
   "outputs": [],
   "source": [
    "#Define the model\n",
    "def model(z,t):\n",
    "    L_n = z[0]\n",
    "    L_scm = z[2]\n",
    "    L_tm = z[4]\n",
    "    L_cm = z[6] \n",
    "    L_em = z[8]\n",
    "    L_emra = z[10]\n",
    "    \n",
    "    A_n = z[1]\n",
    "    A_scm = z[3]\n",
    "    A_tm = z[5]\n",
    "    A_cm = z[7]\n",
    "    A_em = z[9]\n",
    "    A_emra = z[11]\n",
    "    \n",
    "    \n",
    "    #for drug dosings\n",
    "    dL_ndt = (p_n - d_n)*L_n - a*L_n + w*A_n\n",
    "    dA_ndt = a*L_n - d_ALL*A_n - w*A_n\n",
    "    \n",
    "    dL_scmdt = (p_scm - d_scm)*L_scm - a*L_scm + w*A_scm\n",
    "    dA_scmdt = a*L_scm - d_ALL*A_scm - w*A_scm\n",
    "    \n",
    "    dL_tmdt = (p_tm - d_tm)*L_tm - a*L_tm + w*A_tm\n",
    "    dA_tmdt = a*L_tm - d_ALL*A_tm - w*A_tm\n",
    "    \n",
    "    dL_cmdt = (p_cm - d_cm)*L_cm - a*L_cm + w*A_cm\n",
    "    dA_cmdt = a*L_cm - d_ALL*A_cm - w*A_cm\n",
    "    \n",
    "    dL_emdt = (p_em - d_em)*L_em - a*L_em + w*A_em\n",
    "    dA_emdt = a*L_em - d_ALL*A_em - w*A_em\n",
    "    \n",
    "    dL_emradt = (p_emra - d_emra)*L_emra - a*L_emra + w*A_emra\n",
    "    dA_emradt = a*L_emra - d_ALL*A_emra - w*A_emra\n",
    "    \n",
    "    \n",
    "    dzdt = [dL_ndt,dA_ndt,\n",
    "            dL_scmdt,dA_scmdt,\n",
    "            dL_tmdt,dA_tmdt,\n",
    "            dL_cmdt,dA_cmdt,\n",
    "            dL_emdt,dA_emdt,\n",
    "            dL_emradt,dA_emradt\n",
    "            ]\n",
    "    return dzdt"
   ]
  },
  {
   "cell_type": "code",
   "execution_count": 7,
   "metadata": {},
   "outputs": [
    {
     "name": "stdout",
     "output_type": "stream",
     "text": [
      " 9999"
     ]
    }
   ],
   "source": [
    "#number of time points\n",
    "tn = 2000\n",
    "\n",
    "#store solutions\n",
    "#store solutions\n",
    "L_n = np.zeros([parameter_arr.shape[0],tn])\n",
    "L_scm = np.zeros([parameter_arr.shape[0],tn])\n",
    "L_tm = np.zeros([parameter_arr.shape[0],tn])\n",
    "L_cm = np.zeros([parameter_arr.shape[0],tn])\n",
    "L_em = np.zeros([parameter_arr.shape[0],tn])\n",
    "L_emra = np.zeros([parameter_arr.shape[0],tn])\n",
    "\n",
    "A_n = np.zeros([parameter_arr.shape[0],tn])\n",
    "A_scm = np.zeros([parameter_arr.shape[0],tn])\n",
    "A_tm = np.zeros([parameter_arr.shape[0],tn])\n",
    "A_cm = np.zeros([parameter_arr.shape[0],tn])\n",
    "A_em = np.zeros([parameter_arr.shape[0],tn])\n",
    "A_emra = np.zeros([parameter_arr.shape[0],tn])\n",
    "Total = np.zeros([parameter_arr.shape[0],tn])\n",
    "\n",
    "\n",
    "\n",
    "\n",
    "for i,parameter in enumerate(parameter_arr):\n",
    "#initial conditions, there are three\n",
    "    w = parameter[13] # In Ke's 2015 paper, it looks like a reasonable assumption is 20-50 days because thats where copies of vRNA start dropping\n",
    "    d = parameter[15]\n",
    "    LRA = parameter[14]\n",
    "    d_ALL = parameter[12]\n",
    "\n",
    "    p_cm = 0.00075 * d\n",
    "    p_tm = 0.0006 * d\n",
    "    p_em = 0.0003 * d\n",
    "    p_n = 0.000099 * d\n",
    "    p_scm = 0.00001 * d\n",
    "    p_emra = 0.00005 * d\n",
    "\n",
    "\n",
    "    corr_fact = -np.log(1/2)\n",
    "    d_n = corr_fact * (1/1500)\n",
    "    d_scm = corr_fact * (1/150)\n",
    "    d_tm = corr_fact * (1/100)\n",
    "    d_cm = corr_fact * (1/120)\n",
    "    d_em = corr_fact * (1/90)\n",
    "    d_emra = corr_fact * (1/250)\n",
    "    n = 0.00017\n",
    "    a = n * LRA\n",
    "\n",
    "    \n",
    "    z0 = parameter[:12]*10**6\n",
    "\n",
    "    #time points\n",
    "    b = 2000\n",
    "    tn = 60001\n",
    "    t = np.linspace(0,tn-1, b)\n",
    "\n",
    "\n",
    "    #record intial\n",
    "\n",
    "    L_n[i][0] = z0[0]\n",
    "    L_scm[i][0] = z0[2]\n",
    "    L_tm[i][0] = z0[4]\n",
    "    L_cm[i][0] = z0[6] \n",
    "    L_em[i][0] = z0[8]\n",
    "    L_emra[i][0] =z0[10]\n",
    "\n",
    "    A_n[i][0] = z0[1]\n",
    "    A_scm[i][0] = z0[3]\n",
    "    A_tm[i][0] = z0[5]\n",
    "    A_cm[i][0] = z0[7]\n",
    "    A_em[i][0] = z0[9]\n",
    "    A_emra[i][0] = z0[11]\n",
    "\n",
    "    Total[i][0] = np.sum(z0)\n",
    "\n",
    "    #Solve the ODE\n",
    "    for k in range(1,b):\n",
    "        tspan = [t[k-1],t[k]]\n",
    "        # solve for next step\n",
    "        z = odeint(model,z0,tspan)\n",
    "        # store solution for plotting\n",
    "\n",
    "#         L_n[i][k] = z[1][0]\n",
    "#         L_scm[i][k] = z[1][2]\n",
    "#         L_tm[i][k] = z[1][4]\n",
    "#         L_cm[i][k] = z[1][6] \n",
    "#         L_em[i][k] = z[1][8]\n",
    "#         L_emra[i][k] = z[1][10]\n",
    "\n",
    "#         A_n[i][k] = z[1][1]\n",
    "#         A_scm[i][k] = z[1][3]\n",
    "#         A_tm[i][k] = z[1][5]\n",
    "#         A_cm[i][k] = z[1][7]\n",
    "#         A_em[i][k] = z[1][9]\n",
    "#         A_emra[i][k] = z[1][11]\n",
    "\n",
    "\n",
    "        Total[i][k] =np.sum(z[1])\n",
    "        z0 = z[1] \n",
    "    sys.stdout.write('\\r {}'.format(i) )\n",
    "    \n",
    "t = t/365\n",
    "pop_dict = {}\n",
    "# pop_dict['latent'] = [L_n, L_scm, L_tm, L_cm, L_em, L_emra]\n",
    "# pop_dict['active'] = [A_n, A_scm, A_tm, A_cm, A_em, A_emra]\n",
    "pop_dict['times'] = t\n",
    "pop_dict['total'] = Total\n",
    "pop_dict['cell_type'] = ['T_n', 'T_scm', 'T_tm', 'T_cm','T_em', 'T_emra']\n",
    "\n"
   ]
  },
  {
   "cell_type": "code",
   "execution_count": 8,
   "metadata": {},
   "outputs": [],
   "source": [
    "pop_dict['sim'] = parameter_arr"
   ]
  },
  {
   "cell_type": "code",
   "execution_count": 9,
   "metadata": {},
   "outputs": [],
   "source": [
    "#pickle.dump(pop_dict, open('190507_pop_LHS.p','wb'))"
   ]
  },
  {
   "cell_type": "code",
   "execution_count": 10,
   "metadata": {},
   "outputs": [],
   "source": [
    "hy_arr = np.zeros([sims])\n",
    "for i in range(sims):\n",
    "    a = np.where(pop_dict['total'][i] < 10**2)[0]\n",
    "    if len(a)== 0:\n",
    "        hy_arr[i] = 0\n",
    "    else:\n",
    "        hy_arr[i] = t[a[0]]"
   ]
  },
  {
   "cell_type": "code",
   "execution_count": 11,
   "metadata": {},
   "outputs": [
    {
     "data": {
      "text/plain": [
       "42.84521645268812"
      ]
     },
     "execution_count": 11,
     "metadata": {},
     "output_type": "execute_result"
    }
   ],
   "source": [
    "np.mean(hy_arr[hy_arr!=0])"
   ]
  },
  {
   "cell_type": "code",
   "execution_count": 12,
   "metadata": {},
   "outputs": [
    {
     "data": {
      "text/plain": [
       "(1, 200)"
      ]
     },
     "execution_count": 12,
     "metadata": {},
     "output_type": "execute_result"
    },
    {
     "name": "stderr",
     "output_type": "stream",
     "text": [
      "/home/qiuwu/anaconda3/envs/scanpy_env/lib/python3.7/site-packages/matplotlib/font_manager.py:1241: UserWarning: findfont: Font family ['Arial'] not found. Falling back to DejaVu Sans.\n",
      "  (prop.get_family(), self.defaultFamily[fontext]))\n"
     ]
    },
    {
     "data": {
      "image/png": "[encoded data removed]",
      "text/plain": [
       "<Figure size 432x288 with 1 Axes>"
      ]
     },
     "metadata": {
      "needs_background": "light"
     },
     "output_type": "display_data"
    }
   ],
   "source": [
    "sim_50k = plt.hist(hy_arr[hy_arr!=0],bins = 100, density = True)\n",
    "plt.xlabel('Years')\n",
    "plt.ylabel('Probability Density')\n",
    "plt.title('Parameter Scan Affect on Years to Hill Cure', y = 1.05)\n",
    "plt.xlim([1,200])"
   ]
  },
  {
   "cell_type": "code",
   "execution_count": 13,
   "metadata": {},
   "outputs": [],
   "source": [
    "tot_arr = np.zeros([sims])\n",
    "for i in range(sims):\n",
    "    a = np.where(pop_dict['total'][i] < 1)[0]\n",
    "    if len(a)== 0:\n",
    "        tot_arr[i] = 0\n",
    "    else:\n",
    "        tot_arr[i] = t[a[0]]"
   ]
  },
  {
   "cell_type": "code",
   "execution_count": 19,
   "metadata": {},
   "outputs": [
    {
     "data": {
      "text/plain": [
       "(0, 150)"
      ]
     },
     "execution_count": 19,
     "metadata": {},
     "output_type": "execute_result"
    },
    {
     "data": {
      "image/png": "[encoded data removed]",
      "text/plain": [
       "<Figure size 432x288 with 1 Axes>"
      ]
     },
     "metadata": {
      "needs_background": "light"
     },
     "output_type": "display_data"
    }
   ],
   "source": [
    "sterile_50k = plt.hist(tot_arr[tot_arr!=0], bins = 60, density = True)\n",
    "plt.xlabel('Years')\n",
    "plt.ylabel('Probability Density')\n",
    "plt.title('Parameter Scan Affect on Years to Total Cure', y = 1.05)\n",
    "plt.xlim([0,150])"
   ]
  },
  {
   "cell_type": "code",
   "execution_count": 15,
   "metadata": {},
   "outputs": [
    {
     "data": {
      "text/plain": [
       "72.38930628611553"
      ]
     },
     "execution_count": 15,
     "metadata": {},
     "output_type": "execute_result"
    }
   ],
   "source": [
    "np.mean(tot_arr[tot_arr!=0])"
   ]
  },
  {
   "cell_type": "code",
   "execution_count": null,
   "metadata": {},
   "outputs": [],
   "source": [
    "plt.scatter(parameter_arr.T[12], hy_arr, s = 1)\n",
    "plt.ylim([0,150])"
   ]
  },
  {
   "cell_type": "code",
   "execution_count": null,
   "metadata": {},
   "outputs": [],
   "source": [
    "from scipy.stats import pearsonr\n",
    "from scipy.stats import spearmanr"
   ]
  },
  {
   "cell_type": "code",
   "execution_count": null,
   "metadata": {},
   "outputs": [],
   "source": [
    "cure = {}\n",
    "cure['hy'] = hy_arr\n",
    "cure['tot'] = tot_arr\n",
    "pickle.dump(cure, open('190502_cure.p', 'wb'))"
   ]
  },
  {
   "cell_type": "code",
   "execution_count": null,
   "metadata": {},
   "outputs": [],
   "source": [
    "spr_corr = spearmanr(design,hy_arr)"
   ]
  },
  {
   "cell_type": "code",
   "execution_count": null,
   "metadata": {},
   "outputs": [],
   "source": [
    "label_param = [r'$L(0)_N$', r'$L(0)_{SCM}$', r'$L(0)_{TM}$',r'$L(0)_{CM}$',r'$L(0)_{EM}$',r'$L(0)_{EMRA}$',r'$d_A$', r'$\\omega$', 'LRA', r'$p*$', 'Hill Cure']\n",
    "plt.figure(figsize = (15,15))\n",
    "plt.subplot(121)\n",
    "plt.title('Correlation Coefficent of Parameters Using Spearman', y= 1.05)\n",
    "im = plt.imshow(spr_corr[0], cmap = 'RdBu', clim=[-1,1])\n",
    "plt.xticks(np.linspace(0,10,11), label_param, rotation='vertical')\n",
    "plt.yticks(np.linspace(0,10,11), label_param, rotation='horizontal')\n",
    "plt.colorbar(im, fraction = 0.045)\n",
    "\n",
    "plt.subplot(122)\n",
    "im_pval = plt.imshow(spr_corr[1], cmap = 'RdBu', clim =[0,1])\n",
    "plt.title('P-Values of Parameters Using Spearman', y= 1.05)\n",
    "plt.xticks(np.linspace(0,10,11), label_param, rotation='vertical')\n",
    "plt.yticks(np.linspace(0,10,11), label_param, rotation='horizontal')\n",
    "plt.colorbar(im_pval, fraction = 0.045)\n",
    "\n",
    "\n",
    "plt.tight_layout()"
   ]
  },
  {
   "cell_type": "code",
   "execution_count": null,
   "metadata": {},
   "outputs": [],
   "source": [
    "label_param = ['L0_N', 'L0_SCM', 'L0_TM', 'L0_CM', 'L0_EM','L0_EMRA','d_A', 'w', 'LRA', 'p*']"
   ]
  },
  {
   "cell_type": "code",
   "execution_count": null,
   "metadata": {},
   "outputs": [],
   "source": [
    "from matplotlib.gridspec import GridSpec\n",
    "fig = plt.figure(figsize = (7,5))\n",
    "\n",
    "gs = GridSpec(4,4)\n",
    "\n",
    "ax_joint = fig.add_subplot(gs[1:4,0:3])\n",
    "plt.xticks(np.arange(0,1,.1))\n",
    "plt.yticks(np.arange(20,165,20))\n",
    "plt.title(r'Sensitivity Analysis for $T_N$', y = 1.05)\n",
    "plt.xlim([0,0.35])\n",
    "plt.ylim([1,165])\n",
    "ax_joint.set_xlabel(r'$T_N$ Proportion of Latent Reservoir' )\n",
    "ax_joint.set_ylabel('Years')\n",
    "\n",
    "ax_joint.scatter(design.T[0], hy_arr, s = 1)\n",
    "\n",
    "\n",
    "\n",
    "\n",
    "\n"
   ]
  },
  {
   "cell_type": "code",
   "execution_count": null,
   "metadata": {},
   "outputs": [],
   "source": [
    "\n",
    "fig = plt.figure(figsize = (7,5))\n",
    "\n",
    "gs = GridSpec(4,4)\n",
    "\n",
    "ax_joint = fig.add_subplot(gs[1:4,0:3])\n",
    "plt.xticks(np.arange(0,5,.5))\n",
    "plt.yticks(np.arange(20,165,20))\n",
    "plt.xlim([0,2])\n",
    "plt.ylim([0,165])\n",
    "ax_joint.set_xlabel(r'$d$ range')\n",
    "ax_joint.set_ylabel('Years to Hill Cure')\n",
    "plt.title(r'Sensitivity Analysis for $d_A$', y = 1.05)\n",
    "\n",
    "\n",
    "ax_joint.scatter(design.T[6], hy_arr, s = 1)\n",
    "\n",
    "\n",
    "\n",
    "\n",
    "\n"
   ]
  },
  {
   "cell_type": "code",
   "execution_count": null,
   "metadata": {},
   "outputs": [],
   "source": [
    "plt.scatter(design.T[7], hy_arr, s = 1)\n",
    "plt.title(r'Sensitivity Analysis for $\\omega$', y = 1.05)\n",
    "plt.xlim([0,2])\n",
    "plt.ylim([1,165])\n",
    "plt.xlabel(r'$\\omega$' )\n",
    "plt.ylabel('Years')"
   ]
  },
  {
   "cell_type": "code",
   "execution_count": null,
   "metadata": {},
   "outputs": [],
   "source": [
    "plt.scatter(design.T[8], hy_arr, s = 1)\n",
    "plt.title(r'Sensitivity Analysis for $LRA$', y = 1.05)\n",
    "plt.xlim([0,3])\n",
    "plt.ylim([1,165])\n",
    "plt.xlabel(r'$LRA$' )\n",
    "plt.ylabel('Years')"
   ]
  },
  {
   "cell_type": "code",
   "execution_count": null,
   "metadata": {},
   "outputs": [],
   "source": [
    "plt.scatter(design.T[9], hy_arr, s = 1)\n",
    "plt.title(r'Sensitivity Analysis for $p*$', y = 1.05)\n",
    "plt.xlim([0,4])\n",
    "plt.ylim([1,165])\n",
    "plt.xlabel(r'$p*$' )\n",
    "plt.ylabel('Years')"
   ]
  },
  {
   "cell_type": "code",
   "execution_count": null,
   "metadata": {},
   "outputs": [],
   "source": [
    "plt.scatter(design.T[2], hy_arr, s = 1)\n",
    "plt.title(r'Sensitivity Analysis for $T_{TM}$', y = 1.05)\n",
    "plt.xlim([0,.7])\n",
    "plt.ylim([1,165])\n",
    "plt.xlabel(r'$T_{TM}$ Proportion of Latent Reservoir' )\n",
    "plt.ylabel('Years')"
   ]
  },
  {
   "cell_type": "code",
   "execution_count": null,
   "metadata": {},
   "outputs": [],
   "source": []
  }
 ],
 "metadata": {
  "kernelspec": {
   "display_name": "Python Scanpy",
   "language": "python",
   "name": "scanpy_env"
  },
  "language_info": {
   "codemirror_mode": {
    "name": "ipython",
    "version": 3
   },
   "file_extension": ".py",
   "mimetype": "text/x-python",
   "name": "python",
   "nbconvert_exporter": "python",
   "pygments_lexer": "ipython3",
   "version": "3.7.1"
  }
 },
 "nbformat": 4,
 "nbformat_minor": 2
}
