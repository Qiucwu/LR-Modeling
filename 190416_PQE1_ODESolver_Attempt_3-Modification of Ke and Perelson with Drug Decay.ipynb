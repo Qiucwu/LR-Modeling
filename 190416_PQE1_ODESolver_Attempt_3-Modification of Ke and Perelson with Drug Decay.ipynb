{
 "cells": [
  {
   "cell_type": "markdown",
   "metadata": {},
   "source": [
    "# Implementing Ke et al. 2018 within python\n",
    "Notes:\n",
    "I was able to fully implement Ke et al.'s dynamics. Will try to replicate the heatmap and see how that works out - but the heatmap may actually take a long time. Could be good to search through the parameter space - but good job in implementing the paper's model.\n",
    "\n",
    "A few things that we would need to do before implementing two different cell populations are:\n",
    "1. Add the change in virion. That is dependent on the number of activated cells in the system and the decay of the virion. \n",
    "    - Don't know what the parameters are but there are some dummy parameters available that I put in. It looks like the graph that Alison had drawn briefly\n",
    "2. Add a drug decay term. That acts on the alpha term.\n",
    "    - An issue encountered here is that the assumption is that the drug efficacy parameter is linearly related to the drug combination. I think what a better assumption is steeper, maybe some sort of exponential. \n",
    "    - Unsure how to actually make that equation steeper.\n",
    "3. Convert everything to concentrations that are measurable in the blood. \n",
    "4. Add a second population of cells"
   ]
  },
  {
   "cell_type": "code",
   "execution_count": 1,
   "metadata": {},
   "outputs": [],
   "source": [
    "import numpy as np\n",
    "import matplotlib.pyplot as plt\n",
    "from scipy.integrate import odeint\n",
    "from scipy.integrate import solve_ivp"
   ]
  },
  {
   "cell_type": "markdown",
   "metadata": {},
   "source": [
    "## Define Model"
   ]
  },
  {
   "cell_type": "code",
   "execution_count": 71,
   "metadata": {},
   "outputs": [],
   "source": [
    "#Define the model\n",
    "def model(z,t):\n",
    "    #Set initial conditions for the drugs\n",
    "    I = z[4]\n",
    "    B = z[5]\n",
    "    a = z[6]\n",
    "    \n",
    "    #Set initial conditions for the cells\n",
    "    L = z[0]\n",
    "    A = z[1]\n",
    "    R = z[2]\n",
    "    V = z[3]\n",
    "    \n",
    "    \n",
    "    #for drug dosing\n",
    "    dIdt = -e*I\n",
    "    dBdt = e*I-k*B\n",
    "    dadt = dBdt*(1/5)\n",
    "    \n",
    "    #for cells\n",
    "    dLdt = (p-d)*L - n*L - a*L + w*R\n",
    "    dAdt = (p-delta)*A + a*L - gamma*A\n",
    "    dRdt = (p-d)*R + gamma*A - w*R\n",
    "    dVdt = ld*A - dv*V\n",
    "    \n",
    "    \n",
    "    dzdt = [dLdt, dAdt, dRdt, dVdt, dIdt, dBdt, dadt]\n",
    "    return dzdt"
   ]
  },
  {
   "cell_type": "markdown",
   "metadata": {},
   "source": [
    "## Set Initial Conditions and Solve for Those Conditions"
   ]
  },
  {
   "cell_type": "code",
   "execution_count": 78,
   "metadata": {},
   "outputs": [],
   "source": [
    "#initial conditions, there are three\n",
    "z0 = [10**6, 0, 0,0,10,0,0]\n",
    "\n",
    "#number of time points\n",
    "tn = 501\n",
    "\n",
    "#time points\n",
    "t = np.linspace(0,50, tn)\n",
    "\n",
    "\n",
    "#store solutions\n",
    "L = np.empty_like(t)\n",
    "A = np.empty_like(t)\n",
    "R = np.empty_like(t)\n",
    "V = np.empty_like(t)\n",
    "T = np.empty_like(t)\n",
    "I = np.empty_like(t)\n",
    "B = np.empty_like(t)\n",
    "a = np.empty_like(t)\n",
    "\n",
    "#record intial\n",
    "L[0] = z0[0]\n",
    "A[0] = z0[1]\n",
    "R[0] = z0[2]\n",
    "V[0] = z0[3]\n",
    "T[0] = L[0]+A[0]+R[0]\n",
    "I[0] = z0[4]\n",
    "B[0] = z0[5]\n",
    "a[0] = z0[6]\n",
    "\n",
    "#give constants\n",
    "d = 0.006\n",
    "n = 0.0017\n",
    "p = 0.0072\n",
    "delta = 0.5\n",
    "gamma = 0.5\n",
    "w = 1\n",
    "ld = 10\n",
    "dv = 0.5\n",
    "\n",
    "#constants for the drugs\n",
    "k = 0.4\n",
    "e = 0.5\n",
    "\n",
    "#Solve the ODE\n",
    "for i in range(1,tn):\n",
    "    tspan = [t[i-1],t[i]]\n",
    "    # solve for next step\n",
    "    z = odeint(model,z0,tspan)\n",
    "    # store solution for plotting\n",
    "    L[i] = z[1][0]\n",
    "    A[i] = z[1][1]\n",
    "    R[i] = z[1][2]\n",
    "    V[i] = z[1][3]\n",
    "    \n",
    "    I[i] = z[1][4]\n",
    "    B[i] = z[1][5]\n",
    "    a[i] = z[1][6]\n",
    "    \n",
    "    T[i] = L[i]+A[i]+R[i]\n",
    "    # next initial condition\n",
    "    z0 = z[1] \n",
    "\n"
   ]
  },
  {
   "cell_type": "markdown",
   "metadata": {},
   "source": [
    "## Plot the Data for the Continous Drugging Case"
   ]
  },
  {
   "cell_type": "code",
   "execution_count": 79,
   "metadata": {
    "scrolled": true
   },
   "outputs": [
    {
     "data": {
      "image/png": "[encoded data removed]",
      "text/plain": [
       "<Figure size 432x288 with 1 Axes>"
      ]
     },
     "metadata": {
      "needs_background": "light"
     },
     "output_type": "display_data"
    }
   ],
   "source": [
    "# plot results\n",
    "fig, ax = plt.subplots()\n",
    "plt.plot(t,a,'g:',label='a(t)')\n",
    "plt.plot(t,L,'b-',label='L(t)')\n",
    "plt.plot(t,A,'r--',label='A(t)')\n",
    "plt.plot(t,R,'y--',label='R(t)')\n",
    "plt.plot(t,T,'k-', label='T(t)')\n",
    "#plt.plot(t,V,'g--',label = 'V(t)')\n",
    "plt.ylabel('values')\n",
    "plt.xlabel('time')\n",
    "plt.legend(loc='best')\n",
    "#plt.yscale('symlog')\n",
    "x = [0,10,10,0]\n",
    "y = [0,0,10**6,10**6]\n",
    "ax.fill(x,y,alpha = 0.2, facecolor = 'red')\n",
    "plt.xlim([-1,50])\n",
    "#plt.ylim([0,10**6])\n",
    "plt.yscale('symlog')\n",
    "plt.show()\n"
   ]
  },
  {
   "cell_type": "markdown",
   "metadata": {},
   "source": [
    "## Do the same modeling but alpha becomes pulse like inputs"
   ]
  },
  {
   "cell_type": "code",
   "execution_count": 74,
   "metadata": {},
   "outputs": [],
   "source": [
    "#initial conditions, there are three\n",
    "z0 = [10**6, 0, 0,0,5,0,0]\n",
    "\n",
    "#number of time points\n",
    "tn = 501\n",
    "\n",
    "#time points\n",
    "t = np.linspace(0,50, tn)\n",
    "\n",
    "\n",
    "#store solutions\n",
    "L = np.empty_like(t)\n",
    "A = np.empty_like(t)\n",
    "R = np.empty_like(t)\n",
    "V = np.empty_like(t)\n",
    "T = np.empty_like(t)\n",
    "I = np.empty_like(t)\n",
    "B = np.empty_like(t)\n",
    "a = np.empty_like(t)\n",
    "\n",
    "#record intial\n",
    "L[0] = z0[0]\n",
    "A[0] = z0[1]\n",
    "R[0] = z0[2]\n",
    "V[0] = z0[3]\n",
    "T[0] = L[0]+A[0]+R[0]\n",
    "I[0] = z0[4]\n",
    "B[0] = z0[5]\n",
    "a[0] = z0[6]\n",
    "\n",
    "#give constants\n",
    "d = 0.006\n",
    "n = 0.0017\n",
    "p = 0.0072\n",
    "delta = 0.05\n",
    "gamma = 10\n",
    "w = 1\n",
    "ld = 10\n",
    "dv = 0.5\n",
    "\n",
    "#constants for the drugs\n",
    "k = 0.4\n",
    "e = 0.5\n",
    "\n",
    "z1 = [0,0,0,0,5,0,0]\n",
    "#Solve the ODE\n",
    "for i in range(1,tn):\n",
    "    tspan = [t[i-1],t[i]]\n",
    "    if i%50 == 0:\n",
    "        z0= z0+z1\n",
    "    z = odeint(model,z0,tspan)\n",
    "    # store solution for plotting\n",
    "    L[i] = z[1][0]\n",
    "    A[i] = z[1][1]\n",
    "    R[i] = z[1][2]\n",
    "    V[i] = z[1][3]\n",
    "    \n",
    "    I[i] = z[1][4]\n",
    "    B[i] = z[1][5]\n",
    "    a[i] = z[1][6]\n",
    "    \n",
    "    T[i] = L[i]+A[i]+R[i]\n",
    "    # next initial condition\n",
    "    z0 = z[1] \n",
    "\n"
   ]
  },
  {
   "cell_type": "code",
   "execution_count": 76,
   "metadata": {},
   "outputs": [
    {
     "data": {
      "image/png": "[encoded data removed]",
      "text/plain": [
       "<Figure size 432x288 with 1 Axes>"
      ]
     },
     "metadata": {
      "needs_background": "light"
     },
     "output_type": "display_data"
    }
   ],
   "source": [
    "# plot results\n",
    "fig, ax = plt.subplots()\n",
    "plt.plot(t,a,'g:',label='a(t)')\n",
    "plt.plot(t,L,'b-',label='L(t)')\n",
    "plt.plot(t,A,'r--',label='A(t)')\n",
    "plt.plot(t,R,'y--',label='R(t)')\n",
    "plt.plot(t,T,'k-', label='T(t)')\n",
    "#plt.plot(t,V,'g--',label = 'V(t)')\n",
    "plt.ylabel('values')\n",
    "plt.xlabel('time')\n",
    "plt.legend(loc='best')\n",
    "#plt.yscale('symlog')\n",
    "plt.show()\n"
   ]
  },
  {
   "cell_type": "code",
   "execution_count": null,
   "metadata": {},
   "outputs": [],
   "source": []
  }
 ],
 "metadata": {
  "kernelspec": {
   "display_name": "Python 3",
   "language": "python",
   "name": "python3"
  },
  "language_info": {
   "codemirror_mode": {
    "name": "ipython",
    "version": 3
   },
   "file_extension": ".py",
   "mimetype": "text/x-python",
   "name": "python",
   "nbconvert_exporter": "python",
   "pygments_lexer": "ipython3",
   "version": "3.7.0"
  }
 },
 "nbformat": 4,
 "nbformat_minor": 2
}
