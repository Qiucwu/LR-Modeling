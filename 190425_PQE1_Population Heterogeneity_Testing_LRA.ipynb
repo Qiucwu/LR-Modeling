{
 "cells": [
  {
   "cell_type": "markdown",
   "metadata": {},
   "source": [
    "# How to think about treating heterogeneous initial populations"
   ]
  },
  {
   "cell_type": "code",
   "execution_count": 1,
   "metadata": {},
   "outputs": [],
   "source": [
    "import numpy as np\n",
    "import matplotlib.pyplot as plt\n",
    "from scipy.integrate import odeint\n",
    "from scipy.integrate import solve_ivp\n",
    "import sys\n",
    "import pickle"
   ]
  },
  {
   "cell_type": "markdown",
   "metadata": {},
   "source": [
    "It appears that a gamma distribution may be a good fit for picking the hetereogenous population. Normal distributions also work."
   ]
  },
  {
   "cell_type": "code",
   "execution_count": 251,
   "metadata": {},
   "outputs": [],
   "source": [
    "u_N = .01\n",
    "u_SCM = .005\n",
    "u_TM = 0.30\n",
    "u_CM = 0.35\n",
    "u_EM = 0.25\n",
    "std = 0.05"
   ]
  },
  {
   "cell_type": "code",
   "execution_count": 252,
   "metadata": {},
   "outputs": [],
   "source": [
    "#pick my initial population\n",
    "sim = 10000\n",
    "x = abs(np.random.normal([u_N, u_SCM, u_TM, u_CM, u_EM], std, np.broadcast_arrays(sim,5)))\n",
    "y = np.sum(x, axis = 1)\n",
    "\n",
    "for i in range(sim):\n",
    "    x[i] = x[i]/y[i]"
   ]
  },
  {
   "cell_type": "code",
   "execution_count": 253,
   "metadata": {},
   "outputs": [],
   "source": [
    "d = 1\n",
    "LRA = 1\n",
    "\n",
    "p_n = 0.0015 *d\n",
    "p_scm = 0.00015 * d\n",
    "p_tm = 0.005 * d\n",
    "p_cm = 0.0014 * d\n",
    "p_em = 0.005 * d\n",
    "\n",
    "d_n = 0.000666\n",
    "d_scm = 0.005\n",
    "d_tm = 0.01\n",
    "d_cm = 0.00666\n",
    "d_em = 0.011\n",
    "\n",
    "n = 0.0017\n",
    "a = n\n",
    "w = 1/34#0.1\n",
    "\n",
    "d_ALL = 0.05"
   ]
  },
  {
   "cell_type": "markdown",
   "metadata": {},
   "source": [
    "## Define Model"
   ]
  },
  {
   "cell_type": "code",
   "execution_count": 254,
   "metadata": {},
   "outputs": [],
   "source": [
    "#Define the model\n",
    "def model(z,t):\n",
    "    L_n = z[0]\n",
    "    L_scm = z[2]\n",
    "    L_tm = z[4]\n",
    "    L_cm = z[6] \n",
    "    L_em = z[8]\n",
    "    \n",
    "    A_n = z[1]\n",
    "    A_scm = z[3]\n",
    "    A_tm = z[5]\n",
    "    A_cm = z[7]\n",
    "    A_em = z[9]\n",
    "    \n",
    "    \n",
    "    #for drug dosings\n",
    "    dL_ndt = (p_n - d_n)*L_n - a*L_n + w*A_n\n",
    "    dA_ndt = a*L_n - d_ALL*A_n - w*A_n\n",
    "    \n",
    "    dL_scmdt = (p_scm - d_scm)*L_scm - a*L_scm + w*A_scm\n",
    "    dA_scmdt = a*L_scm - d_ALL*A_scm - w*A_scm\n",
    "    \n",
    "    dL_tmdt = (p_tm - d_tm)*L_tm - a*L_tm + w*A_tm\n",
    "    dA_tmdt = a*L_tm - d_ALL*A_tm - w*A_tm\n",
    "    \n",
    "    dL_cmdt = (p_cm - d_cm)*L_cm - a*L_cm + w*A_cm\n",
    "    dA_cmdt = a*L_cm - d_ALL*A_cm - w*A_cm\n",
    "    \n",
    "    dL_emdt = (p_em - d_em)*L_em - a*L_em + w*A_em\n",
    "    dA_emdt = a*L_em - d_ALL*A_em - w*A_em\n",
    "    \n",
    "    \n",
    "    dzdt = [dL_ndt,dA_ndt,\n",
    "            dL_scmdt,dA_scmdt,\n",
    "            dL_tmdt,dA_tmdt,\n",
    "            dL_cmdt,dA_cmdt,\n",
    "            dL_emdt,dA_emdt\n",
    "            ]\n",
    "    return dzdt"
   ]
  },
  {
   "cell_type": "markdown",
   "metadata": {},
   "source": [
    "## Set Initial Conditions and Solve for Those Conditions"
   ]
  },
  {
   "cell_type": "code",
   "execution_count": 255,
   "metadata": {},
   "outputs": [],
   "source": [
    "#initial conditions, there are three\n",
    "z0 = np.zeros(10)\n",
    "ctr=0\n",
    "for i in range(5):\n",
    "    z0[ctr] = x[5][i]*10**6\n",
    "    ctr+=2\n"
   ]
  },
  {
   "cell_type": "code",
   "execution_count": 256,
   "metadata": {},
   "outputs": [
    {
     "data": {
      "text/plain": [
       "array([0.01352175, 0.0458475 , 0.37749033, 0.37484659, 0.18829383])"
      ]
     },
     "execution_count": 256,
     "metadata": {},
     "output_type": "execute_result"
    }
   ],
   "source": [
    "x[5]"
   ]
  },
  {
   "cell_type": "code",
   "execution_count": 257,
   "metadata": {},
   "outputs": [],
   "source": [
    "\n",
    "#number of time points\n",
    "tn = 30001\n",
    "\n",
    "#time points\n",
    "t = np.linspace(0,tn-1, tn)\n",
    "\n",
    "\n",
    "#store solutions\n",
    "#Drug Doses\n",
    "L_n = np.empty_like(t)\n",
    "L_scm = np.empty_like(t)\n",
    "L_tm = np.empty_like(t)\n",
    "L_cm = np.empty_like(t)\n",
    "L_em = np.empty_like(t)\n",
    "\n",
    "A_n = np.empty_like(t)\n",
    "A_scm = np.empty_like(t)\n",
    "A_tm = np.empty_like(t)\n",
    "A_cm = np.empty_like(t)\n",
    "A_em = np.empty_like(t)\n",
    "Total = np.empty_like(t)\n",
    "\n",
    "\n",
    "#record intial\n",
    "\n",
    "L_n[0] = z0[0]\n",
    "L_scm[0] = z0[2]\n",
    "L_tm[0] = z0[4]\n",
    "L_cm[0] = z0[6] \n",
    "L_em[0] = z0[8]\n",
    "\n",
    "A_n[0] = z0[1]\n",
    "A_scm[0] = z0[3]\n",
    "A_tm[0] = z0[5]\n",
    "A_cm[0] = z0[7]\n",
    "A_em[0] = z0[9]\n",
    "\n",
    "Total[0] = np.sum(z0)\n",
    "\n",
    "#Solve the ODE\n",
    "for i in range(1,tn):\n",
    "    tspan = [t[i-1],t[i]]\n",
    "    # solve for next step\n",
    "    z = odeint(model,z0,tspan)\n",
    "    # store solution for plotting\n",
    "        \n",
    "    L_n[i] = z[1][0]\n",
    "    L_scm[i] = z[1][2]\n",
    "    L_tm[i] = z[1][4]\n",
    "    L_cm[i] = z[1][6] \n",
    "    L_em[i] = z[1][8]\n",
    "    \n",
    "    A_n[i] = z[1][1]\n",
    "    A_scm[i] = z[1][3]\n",
    "    A_tm[i] = z[1][5]\n",
    "    A_cm[i] = z[1][7]\n",
    "    A_em[i] = z[1][9]\n",
    "    \n",
    "    Total[i]=np.sum(z[1])\n",
    "    z0 = z[1] \n",
    "    \n",
    "\n"
   ]
  },
  {
   "cell_type": "code",
   "execution_count": 344,
   "metadata": {},
   "outputs": [
    {
     "data": {
      "text/plain": [
       "<matplotlib.legend.Legend at 0x7f357e876048>"
      ]
     },
     "execution_count": 344,
     "metadata": {},
     "output_type": "execute_result"
    },
    {
     "data": {
      "image/png": "[encoded data removed]",
      "text/plain": [
       "<Figure size 1080x288 with 1 Axes>"
      ]
     },
     "metadata": {
      "needs_background": "light"
     },
     "output_type": "display_data"
    }
   ],
   "source": [
    "fig, ax = plt.subplots(figsize = (15,4), sharey = True)\n",
    "ax = plt.subplot(121)\n",
    "plt.title('Dynamics of All T Cells')\n",
    "plt.plot(t,L_n,'g:',label='L_n')\n",
    "plt.plot(t,A_n,'b-',label='A_n')\n",
    "plt.plot(t,L_scm,'r--',label='L_scm')\n",
    "plt.plot(t,A_scm,'y--',label='A_scm')\n",
    "plt.plot(t,L_tm,'g--',label='L_tm')\n",
    "plt.plot(t,A_tm,'k--',label='A_tm')\n",
    "plt.plot(t,L_cm,'r',label='L_cm')\n",
    "plt.plot(t,A_cm,'y-',label='A_cm')\n",
    "plt.plot(t,L_em,'r:',label='L_em')\n",
    "plt.plot(t,A_em,'k-',label='A_em')\n",
    "plt.plot(t,Total,'orange', label = 'Total')\n",
    "plt.yscale('symlog')\n",
    "plt.xscale('symlog')\n",
    "\n",
    "box = ax.get_position()\n",
    "ax.set_position([box.x0, box.y0, box.width * 0.8, box.height])\n",
    "\n",
    "# Put a legend to the right of the current axis\n",
    "ax.legend(loc='center left', bbox_to_anchor=(1, 0.5))"
   ]
  },
  {
   "cell_type": "markdown",
   "metadata": {},
   "source": [
    "# Get the reduction ratio"
   ]
  },
  {
   "cell_type": "code",
   "execution_count": 350,
   "metadata": {},
   "outputs": [],
   "source": [
    "#Set list for Pinkevych cure and hill cure\n",
    "tmp = np.zeros([int(sim),10])\n",
    "ctr=0\n",
    "for i in range(5):\n",
    "    tmp[:,ctr] = x[:,i]*10**6\n",
    "    ctr+=2\n",
    "    \n",
    "hill_cure = 10**2\n",
    "p_cure = 2*10**3\n",
    "\n",
    "hill_years = {}\n",
    "p_years = {}"
   ]
  },
  {
   "cell_type": "code",
   "execution_count": 351,
   "metadata": {},
   "outputs": [],
   "source": [
    "n_sims = sim"
   ]
  },
  {
   "cell_type": "code",
   "execution_count": 352,
   "metadata": {},
   "outputs": [],
   "source": [
    "#Populate Hill Year Dictionary\n",
    "hill_years['d'] = []\n",
    "hill_years['a'] = []\n",
    "hill_years['years'] = np.zeros([10,10,n_sims])\n",
    "#Population P Year Dictionary\n",
    "p_years['d'] = []\n",
    "p_years['a'] = []\n",
    "p_years['years'] = np.zeros([10,10,n_sims])\n",
    "\n",
    "\n",
    "for i in range(1,11):\n",
    "    hill_years['d'].append(1/i**2)\n",
    "    hill_years['a'].append(i)\n",
    "    \n",
    "    p_years['d'].append(1/i**2)\n",
    "    p_years['a'].append(i)"
   ]
  },
  {
   "cell_type": "code",
   "execution_count": 353,
   "metadata": {},
   "outputs": [
    {
     "name": "stdout",
     "output_type": "stream",
     "text": [
      " 9,9, 9999"
     ]
    }
   ],
   "source": [
    "#initial conditions, there are three\n",
    "for tmp_d, d, in enumerate(hill_years['d']):\n",
    "    for tmp_n,LRA in enumerate(hill_years['a']):\n",
    "        #Adjusting parameters:\n",
    "\n",
    "\n",
    "        p_n = 0.0015 *d\n",
    "        p_scm = 0.00015 * d\n",
    "        p_tm = 0.005 * d\n",
    "        p_cm = 0.0014 * d\n",
    "        p_em = 0.005 * d\n",
    "\n",
    "        d_n = 0.000666\n",
    "        d_scm = 0.005\n",
    "        d_tm = 0.01\n",
    "        d_cm = 0.00666\n",
    "        d_em = 0.011\n",
    "\n",
    "        n = 0.0017\n",
    "        a = n * LRA\n",
    "        w = 1/34#0.1\n",
    "\n",
    "        d_ALL = 0.05\n",
    "\n",
    "        #Beging simulation\n",
    "        for sims in range(n_sims):\n",
    "            z0 = tmp[sims]\n",
    "\n",
    "            #number of time points\n",
    "            tn = 35001\n",
    "            b = 2000\n",
    "\n",
    "            #time points\n",
    "            t = np.linspace(0,tn-1, b)\n",
    "\n",
    "\n",
    "            #store solutions\n",
    "            #Drug Doses\n",
    "            L_n = np.empty_like(t)\n",
    "            L_scm = np.empty_like(t)\n",
    "            L_tm = np.empty_like(t)\n",
    "            L_cm = np.empty_like(t)\n",
    "            L_em = np.empty_like(t)\n",
    "\n",
    "            A_n = np.empty_like(t)\n",
    "            A_scm = np.empty_like(t)\n",
    "            A_tm = np.empty_like(t)\n",
    "            A_cm = np.empty_like(t)\n",
    "            A_em = np.empty_like(t)\n",
    "            Total = np.empty_like(t)\n",
    "\n",
    "\n",
    "            #record intial\n",
    "\n",
    "            L_n[0] = z0[0]\n",
    "            L_scm[0] = z0[2]\n",
    "            L_tm[0] = z0[4]\n",
    "            L_cm[0] = z0[6] \n",
    "            L_em[0] = z0[8]\n",
    "\n",
    "            A_n[0] = z0[1]\n",
    "            A_scm[0] = z0[3]\n",
    "            A_tm[0] = z0[5]\n",
    "            A_cm[0] = z0[7]\n",
    "            A_em[0] = z0[9]\n",
    "\n",
    "            Total[0] = np.sum(z0)\n",
    "\n",
    "            #Solve the ODE\n",
    "            for i in range(1,b):\n",
    "                tspan = [t[i-1],t[i]]\n",
    "                # solve for next step\n",
    "                z = odeint(model,z0,tspan)\n",
    "                # store solution for plotting\n",
    "\n",
    "                L_n[i] = z[1][0]\n",
    "                L_scm[i] = z[1][2]\n",
    "                L_tm[i] = z[1][4]\n",
    "                L_cm[i] = z[1][6] \n",
    "                L_em[i] = z[1][8]\n",
    "\n",
    "                A_n[i] = z[1][1]\n",
    "                A_scm[i] = z[1][3]\n",
    "                A_tm[i] = z[1][5]\n",
    "                A_cm[i] = z[1][7]\n",
    "                A_em[i] = z[1][9]\n",
    "\n",
    "                Total[i]=np.sum(z[1])\n",
    "                z0 = z[1] \n",
    "\n",
    "            if t[Total<hill_cure].shape[0] ==0:\n",
    "                hill_years['years'][tmp_d,tmp_n,sims] = 0\n",
    "            else:\n",
    "                hill_years['years'][tmp_d,tmp_n,sims] = t[Total <hill_cure][0]\n",
    "\n",
    "            if t[Total<p_cure].shape[0] ==0:\n",
    "                p_years['years'][tmp_d,tmp_n,sims] = 0\n",
    "            else:\n",
    "                p_years['years'][tmp_d,tmp_n,sims] = t[Total <p_cure][0]\n",
    "\n",
    "            sys.stdout.write('\\r {},{}, {}'.format(tmp_d,tmp_n,sims) )"
   ]
  },
  {
   "cell_type": "markdown",
   "metadata": {},
   "source": [
    "# Plotting histogram based on decrease in drop in proliferative capacity"
   ]
  },
  {
   "cell_type": "code",
   "execution_count": 334,
   "metadata": {},
   "outputs": [
    {
     "data": {
      "text/plain": [
       "<matplotlib.legend.Legend at 0x7f358591f080>"
      ]
     },
     "execution_count": 334,
     "metadata": {},
     "output_type": "execute_result"
    },
    {
     "data": {
      "image/png": "[encoded data removed]",
      "text/plain": [
       "<Figure size 432x288 with 1 Axes>"
      ]
     },
     "metadata": {
      "needs_background": "light"
     },
     "output_type": "display_data"
    }
   ],
   "source": [
    "plt.hist(np.divide(hill_years['years'][1,1,:],365).flatten(), label = 'Hill Cure Time', density = True)\n",
    "plt.hist(np.divide(p_years['years'][1,1,:],365).flatten(), label = 'P Cure Time', density= True, alpha = 0.5)\n",
    "\n",
    "plt.legend()"
   ]
  },
  {
   "cell_type": "code",
   "execution_count": 354,
   "metadata": {},
   "outputs": [],
   "source": [
    "pickle.dump(hill_years,open('hill_years_ad_10k.p', 'wb'))\n",
    "pickle.dump(p_years,open('p_years_ad_10k.p', 'wb'))\n",
    "pickle.dump(x, open('t_pop_ad_10k.p', 'wb'))"
   ]
  },
  {
   "cell_type": "markdown",
   "metadata": {},
   "source": [
    "This data, there is a sytematic issue with the recording. For some reason it recorded 2010 observations, not 2000. It looks like the last 2000 observations correspond to the heterogenous pop"
   ]
  },
  {
   "cell_type": "code",
   "execution_count": 269,
   "metadata": {},
   "outputs": [
    {
     "data": {
      "text/plain": [
       "161"
      ]
     },
     "execution_count": 269,
     "metadata": {},
     "output_type": "execute_result"
    }
   ],
   "source": [
    "len(hill_years['a_years'][0])"
   ]
  },
  {
   "cell_type": "code",
   "execution_count": 342,
   "metadata": {},
   "outputs": [
    {
     "data": {
      "text/plain": [
       "Text(0.5, 1.0, 'Decrease in Proliferate Rate on Years to Achieve Hill Cure')"
      ]
     },
     "execution_count": 342,
     "metadata": {},
     "output_type": "execute_result"
    },
    {
     "data": {
      "image/png": "[encoded data removed]",
      "text/plain": [
       "<Figure size 432x288 with 1 Axes>"
      ]
     },
     "metadata": {
      "needs_background": "light"
     },
     "output_type": "display_data"
    }
   ],
   "source": [
    "for i in range(10):\n",
    "    plt.scatter(x.T[0][:100],np.divide(hill_years['years'][i,9,:],365), s = 1, label = '1/{} p'.format(i**2))\n",
    "#plt.yscale('symlog')\n",
    "#plt.ylim([2,100])\n",
    "plt.xlabel('Proportion of Tn cells')\n",
    "plt.ylabel('Years')\n",
    "plt.legend(loc = 'lower right')\n",
    "plt.title('Decrease in Proliferate Rate on Years to Achieve Hill Cure')\n"
   ]
  },
  {
   "cell_type": "code",
   "execution_count": 341,
   "metadata": {},
   "outputs": [
    {
     "data": {
      "text/plain": [
       "<matplotlib.legend.Legend at 0x7f357f3a1470>"
      ]
     },
     "execution_count": 341,
     "metadata": {},
     "output_type": "execute_result"
    },
    {
     "data": {
      "image/png": "[encoded data removed]",
      "text/plain": [
       "<Figure size 432x288 with 1 Axes>"
      ]
     },
     "metadata": {
      "needs_background": "light"
     },
     "output_type": "display_data"
    }
   ],
   "source": [
    "for i in range(0,10):\n",
    "    plt.hist(np.divide(hill_years['years'][i,0,:],365), label = '1/{} p'.format((i+1)**2), density = True,alpha = 1/(i+1))\n",
    "plt.legend(loc = 'upper left')"
   ]
  },
  {
   "cell_type": "markdown",
   "metadata": {},
   "source": [
    "What looks interesting is that it looks like dropping the proliferation rate has a huge effect on the years it take for latent population to reach the p cure and the hill cure. But only to a certain point. You are limited by the initial size of your latent population of naive T cells. A strategy could be to increase naive t cell conversion to a memory t cell, thereby reducing size of naive pop. However, this is super dangerous. \n",
    "Another strategy would be to increase activation rate."
   ]
  },
  {
   "cell_type": "code",
   "execution_count": 158,
   "metadata": {},
   "outputs": [],
   "source": [
    "cell_labels = ['T_n', 'T_scm', 'T_tm', 'T_cm', 'T_em']"
   ]
  },
  {
   "cell_type": "markdown",
   "metadata": {},
   "source": [
    "# Summary:\n",
    "Need to try out model without these naive T cells and see what happens. \n",
    "1. Something is a little wonky about the activation parameter. I need to do a parameter scan to look how the activation parameter changes the behavior of the graph. Need to do a vector mapping probably. \n",
    "2. A slight increase in the activation rate DRAMATICALLY decreases the latency pop which is a little fishy. I will have to test it more, but it weirds me out that it does that?"
   ]
  },
  {
   "cell_type": "code",
   "execution_count": null,
   "metadata": {},
   "outputs": [],
   "source": []
  }
 ],
 "metadata": {
  "kernelspec": {
   "display_name": "Python Scanpy",
   "language": "python",
   "name": "scanpy_env"
  },
  "language_info": {
   "codemirror_mode": {
    "name": "ipython",
    "version": 3
   },
   "file_extension": ".py",
   "mimetype": "text/x-python",
   "name": "python",
   "nbconvert_exporter": "python",
   "pygments_lexer": "ipython3",
   "version": "3.7.1"
  }
 },
 "nbformat": 4,
 "nbformat_minor": 2
}
